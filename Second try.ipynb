{
 "cells": [
  {
   "cell_type": "markdown",
   "metadata": {},
   "source": [
    "# Hi! Lets try!\n",
    "\n",
    "version 0.3\n",
    "Tsurkan Viacheslav"
   ]
  },
  {
   "cell_type": "markdown",
   "metadata": {},
   "source": [
    "#### Some libraries"
   ]
  },
  {
   "cell_type": "code",
   "execution_count": 437,
   "metadata": {
    "collapsed": true
   },
   "outputs": [],
   "source": [
    "# data analysis and wrangling\n",
    "import pandas as pd\n",
    "import numpy as np\n",
    "import random as rnd\n",
    "\n",
    "# visualization\n",
    "import seaborn as sns\n",
    "import matplotlib.pyplot as plt\n",
    "%matplotlib inline"
   ]
  },
  {
   "cell_type": "markdown",
   "metadata": {},
   "source": [
    "#### Import some data"
   ]
  },
  {
   "cell_type": "code",
   "execution_count": 438,
   "metadata": {
    "collapsed": true
   },
   "outputs": [],
   "source": [
    "#,index_col=\"id\"\n",
    "train_df = pd.read_csv('train.csv')\n",
    "test_df = pd.read_csv('test.csv')"
   ]
  },
  {
   "cell_type": "markdown",
   "metadata": {},
   "source": [
    "#### Overview our data."
   ]
  },
  {
   "cell_type": "code",
   "execution_count": 439,
   "metadata": {
    "scrolled": true
   },
   "outputs": [
    {
     "name": "stdout",
     "output_type": "stream",
     "text": [
      "['id' 'text' 'author']\n"
     ]
    },
    {
     "data": {
      "text/html": [
       "<div>\n",
       "<style>\n",
       "    .dataframe thead tr:only-child th {\n",
       "        text-align: right;\n",
       "    }\n",
       "\n",
       "    .dataframe thead th {\n",
       "        text-align: left;\n",
       "    }\n",
       "\n",
       "    .dataframe tbody tr th {\n",
       "        vertical-align: top;\n",
       "    }\n",
       "</style>\n",
       "<table border=\"1\" class=\"dataframe\">\n",
       "  <thead>\n",
       "    <tr style=\"text-align: right;\">\n",
       "      <th></th>\n",
       "      <th>id</th>\n",
       "      <th>text</th>\n",
       "      <th>author</th>\n",
       "    </tr>\n",
       "  </thead>\n",
       "  <tbody>\n",
       "    <tr>\n",
       "      <th>0</th>\n",
       "      <td>id26305</td>\n",
       "      <td>This process, however, afforded me no means of...</td>\n",
       "      <td>EAP</td>\n",
       "    </tr>\n",
       "    <tr>\n",
       "      <th>1</th>\n",
       "      <td>id17569</td>\n",
       "      <td>It never once occurred to me that the fumbling...</td>\n",
       "      <td>HPL</td>\n",
       "    </tr>\n",
       "    <tr>\n",
       "      <th>2</th>\n",
       "      <td>id11008</td>\n",
       "      <td>In his left hand was a gold snuff box, from wh...</td>\n",
       "      <td>EAP</td>\n",
       "    </tr>\n",
       "    <tr>\n",
       "      <th>3</th>\n",
       "      <td>id27763</td>\n",
       "      <td>How lovely is spring As we looked from Windsor...</td>\n",
       "      <td>MWS</td>\n",
       "    </tr>\n",
       "    <tr>\n",
       "      <th>4</th>\n",
       "      <td>id12958</td>\n",
       "      <td>Finding nothing else, not even gold, the Super...</td>\n",
       "      <td>HPL</td>\n",
       "    </tr>\n",
       "  </tbody>\n",
       "</table>\n",
       "</div>"
      ],
      "text/plain": [
       "        id                                               text author\n",
       "0  id26305  This process, however, afforded me no means of...    EAP\n",
       "1  id17569  It never once occurred to me that the fumbling...    HPL\n",
       "2  id11008  In his left hand was a gold snuff box, from wh...    EAP\n",
       "3  id27763  How lovely is spring As we looked from Windsor...    MWS\n",
       "4  id12958  Finding nothing else, not even gold, the Super...    HPL"
      ]
     },
     "execution_count": 439,
     "metadata": {},
     "output_type": "execute_result"
    }
   ],
   "source": [
    "print(train_df.columns.values)\n",
    "train_df[:5]"
   ]
  },
  {
   "cell_type": "code",
   "execution_count": 440,
   "metadata": {},
   "outputs": [
    {
     "data": {
      "text/html": [
       "<div>\n",
       "<style>\n",
       "    .dataframe thead tr:only-child th {\n",
       "        text-align: right;\n",
       "    }\n",
       "\n",
       "    .dataframe thead th {\n",
       "        text-align: left;\n",
       "    }\n",
       "\n",
       "    .dataframe tbody tr th {\n",
       "        vertical-align: top;\n",
       "    }\n",
       "</style>\n",
       "<table border=\"1\" class=\"dataframe\">\n",
       "  <thead>\n",
       "    <tr style=\"text-align: right;\">\n",
       "      <th></th>\n",
       "      <th>id</th>\n",
       "      <th>text</th>\n",
       "    </tr>\n",
       "  </thead>\n",
       "  <tbody>\n",
       "    <tr>\n",
       "      <th>0</th>\n",
       "      <td>id02310</td>\n",
       "      <td>Still, as I urged our leaving Ireland with suc...</td>\n",
       "    </tr>\n",
       "    <tr>\n",
       "      <th>1</th>\n",
       "      <td>id24541</td>\n",
       "      <td>If a fire wanted fanning, it could readily be ...</td>\n",
       "    </tr>\n",
       "    <tr>\n",
       "      <th>2</th>\n",
       "      <td>id00134</td>\n",
       "      <td>And when they had broken down the frail door t...</td>\n",
       "    </tr>\n",
       "    <tr>\n",
       "      <th>3</th>\n",
       "      <td>id27757</td>\n",
       "      <td>While I was thinking how I should possibly man...</td>\n",
       "    </tr>\n",
       "    <tr>\n",
       "      <th>4</th>\n",
       "      <td>id04081</td>\n",
       "      <td>I am not sure to what limit his knowledge may ...</td>\n",
       "    </tr>\n",
       "  </tbody>\n",
       "</table>\n",
       "</div>"
      ],
      "text/plain": [
       "        id                                               text\n",
       "0  id02310  Still, as I urged our leaving Ireland with suc...\n",
       "1  id24541  If a fire wanted fanning, it could readily be ...\n",
       "2  id00134  And when they had broken down the frail door t...\n",
       "3  id27757  While I was thinking how I should possibly man...\n",
       "4  id04081  I am not sure to what limit his knowledge may ..."
      ]
     },
     "execution_count": 440,
     "metadata": {},
     "output_type": "execute_result"
    }
   ],
   "source": [
    "test_df[:5]"
   ]
  },
  {
   "cell_type": "markdown",
   "metadata": {},
   "source": [
    "##### Shape and data type."
   ]
  },
  {
   "cell_type": "code",
   "execution_count": 441,
   "metadata": {},
   "outputs": [
    {
     "name": "stdout",
     "output_type": "stream",
     "text": [
      "(19579, 3)\n",
      "(8392, 2)\n"
     ]
    }
   ],
   "source": [
    "#train_df = train_df.drop(['id'],axis=1)\n",
    "print(train_df.shape)\n",
    "print(test_df.shape)"
   ]
  },
  {
   "cell_type": "code",
   "execution_count": 442,
   "metadata": {
    "scrolled": false
   },
   "outputs": [
    {
     "data": {
      "text/html": [
       "<div>\n",
       "<style>\n",
       "    .dataframe thead tr:only-child th {\n",
       "        text-align: right;\n",
       "    }\n",
       "\n",
       "    .dataframe thead th {\n",
       "        text-align: left;\n",
       "    }\n",
       "\n",
       "    .dataframe tbody tr th {\n",
       "        vertical-align: top;\n",
       "    }\n",
       "</style>\n",
       "<table border=\"1\" class=\"dataframe\">\n",
       "  <thead>\n",
       "    <tr style=\"text-align: right;\">\n",
       "      <th></th>\n",
       "      <th>text</th>\n",
       "    </tr>\n",
       "    <tr>\n",
       "      <th>author</th>\n",
       "      <th></th>\n",
       "    </tr>\n",
       "  </thead>\n",
       "  <tbody>\n",
       "    <tr>\n",
       "      <th>EAP</th>\n",
       "      <td>0.403494</td>\n",
       "    </tr>\n",
       "    <tr>\n",
       "      <th>HPL</th>\n",
       "      <td>0.287808</td>\n",
       "    </tr>\n",
       "    <tr>\n",
       "      <th>MWS</th>\n",
       "      <td>0.308698</td>\n",
       "    </tr>\n",
       "  </tbody>\n",
       "</table>\n",
       "</div>"
      ],
      "text/plain": [
       "            text\n",
       "author          \n",
       "EAP     0.403494\n",
       "HPL     0.287808\n",
       "MWS     0.308698"
      ]
     },
     "execution_count": 442,
     "metadata": {},
     "output_type": "execute_result"
    }
   ],
   "source": [
    "train_df[[\"author\",\"text\"]].groupby([\"author\"]).count()/train_df.shape[0]"
   ]
  },
  {
   "cell_type": "markdown",
   "metadata": {},
   "source": [
    "Start"
   ]
  },
  {
   "cell_type": "code",
   "execution_count": 443,
   "metadata": {},
   "outputs": [],
   "source": [
    "X = train_df.text\n",
    "y = train_df.author\n"
   ]
  },
  {
   "cell_type": "code",
   "execution_count": 444,
   "metadata": {},
   "outputs": [
    {
     "data": {
      "text/plain": [
       "(19579,)"
      ]
     },
     "execution_count": 444,
     "metadata": {},
     "output_type": "execute_result"
    }
   ],
   "source": [
    "y.shape"
   ]
  },
  {
   "cell_type": "code",
   "execution_count": 445,
   "metadata": {},
   "outputs": [],
   "source": [
    "T = test_df.text\n"
   ]
  },
  {
   "cell_type": "code",
   "execution_count": 446,
   "metadata": {},
   "outputs": [],
   "source": [
    "from sklearn.model_selection import train_test_split\n",
    "X1_train, X1_test, y_train, y_test = train_test_split(X, y, test_size=0.2, random_state=2)"
   ]
  },
  {
   "cell_type": "code",
   "execution_count": 477,
   "metadata": {},
   "outputs": [],
   "source": [
    "#http://scikit-learn.org/stable/tutorial/text_analytics/working_with_text_data.html\n",
    "\n",
    "from sklearn.feature_extraction.text import TfidfVectorizer\n",
    "\n",
    "#Extracting features from the training data using a sparse vectorizer\n",
    "vectorizer = TfidfVectorizer(sublinear_tf=True, max_df=0.5, stop_words='english', ngram_range=(1, 3))\n",
    "X_train = vectorizer.fit_transform(X1_train)\n",
    "#Extracting features from the test data using the same vectorizer\n",
    "X_test = vectorizer.transform(X1_test)\n",
    "\n",
    "X_full = vectorizer.transform(X)\n",
    "T_test = vectorizer.transform(T)"
   ]
  },
  {
   "cell_type": "code",
   "execution_count": 478,
   "metadata": {},
   "outputs": [
    {
     "data": {
      "text/plain": [
       "322805"
      ]
     },
     "execution_count": 478,
     "metadata": {},
     "output_type": "execute_result"
    }
   ],
   "source": [
    "feature_names = vectorizer.get_feature_names()\n",
    "len(feature_names)"
   ]
  },
  {
   "cell_type": "code",
   "execution_count": 449,
   "metadata": {
    "collapsed": true
   },
   "outputs": [],
   "source": [
    "from sklearn.feature_selection import SelectFromModel\n",
    "from sklearn.feature_selection import SelectKBest, chi2\n",
    "from sklearn.linear_model import RidgeClassifier\n",
    "from sklearn.pipeline import Pipeline\n",
    "from sklearn.svm import LinearSVC\n",
    "from sklearn.linear_model import SGDClassifier\n",
    "from sklearn.linear_model import Perceptron\n",
    "from sklearn.linear_model import PassiveAggressiveClassifier\n",
    "from sklearn.naive_bayes import BernoulliNB, MultinomialNB\n",
    "from sklearn.neighbors import NearestCentroid\n",
    "from sklearn.utils.extmath import density\n",
    "from sklearn import metrics\n",
    "\n",
    "from time import time\n",
    "from sklearn.cross_validation import cross_val_score"
   ]
  },
  {
   "cell_type": "code",
   "execution_count": 471,
   "metadata": {
    "scrolled": false
   },
   "outputs": [
    {
     "name": "stdout",
     "output_type": "stream",
     "text": [
      "________________________________________________________________________________\n",
      "Perceptron(alpha=0.0001, class_weight=None, eta0=1.0, fit_intercept=True,\n",
      "      max_iter=50, n_iter=None, n_jobs=1, penalty=None, random_state=0,\n",
      "      shuffle=True, tol=None, verbose=0, warm_start=False)\n",
      "accuracy:   0.785\n",
      "\n",
      "________________________________________________________________________________\n",
      "PassiveAggressiveClassifier(C=1.0, average=False, class_weight=None,\n",
      "              fit_intercept=True, loss='hinge', max_iter=50, n_iter=None,\n",
      "              n_jobs=1, random_state=None, shuffle=True, tol=None,\n",
      "              verbose=0, warm_start=False)\n",
      "accuracy:   0.797\n",
      "\n",
      "________________________________________________________________________________\n",
      "LinearSVC(C=1.0, class_weight=None, dual=False, fit_intercept=True,\n",
      "     intercept_scaling=1, loss='squared_hinge', max_iter=1000,\n",
      "     multi_class='ovr', penalty='l2', random_state=None, tol=0.001,\n",
      "     verbose=0)\n",
      "accuracy:   0.807\n",
      "\n",
      "________________________________________________________________________________\n",
      "LinearSVC(C=1.0, class_weight=None, dual=False, fit_intercept=True,\n",
      "     intercept_scaling=1, loss='squared_hinge', max_iter=1000,\n",
      "     multi_class='ovr', penalty='l1', random_state=None, tol=0.001,\n",
      "     verbose=0)\n",
      "accuracy:   0.780\n",
      "\n",
      "________________________________________________________________________________\n",
      "BernoulliNB(alpha=0.001, binarize=0.0, class_prior=None, fit_prior=True)\n",
      "accuracy:   0.821\n",
      "\n",
      "________________________________________________________________________________\n",
      "Pipeline(memory=None,\n",
      "     steps=[('feature_selection', SelectFromModel(estimator=LinearSVC(C=1.0, class_weight=None, dual=False, fit_intercept=True,\n",
      "     intercept_scaling=1, loss='squared_hinge', max_iter=1000,\n",
      "     multi_class='ovr', penalty='l1', random_state=None, tol=0.001,\n",
      "     verbose=0),\n",
      "        norm_order=1, prefit=...ax_iter=1000,\n",
      "     multi_class='ovr', penalty='l2', random_state=None, tol=0.0001,\n",
      "     verbose=0))])\n",
      "accuracy:   0.790\n",
      "\n"
     ]
    }
   ],
   "source": [
    "# Benchmark classifiers\n",
    "def benchmark(clf):\n",
    "    print('_' * 80)\n",
    "    print(clf)\n",
    "    t0 = time()\n",
    "    #clf.fit(X_train, y_train)\n",
    "    scores = cross_val_score(clf, X_full, y, cv=10, scoring='accuracy')\n",
    "    train_time = time() - t0\n",
    "    #print(\"train time: %0.3fs\" % train_time)\n",
    "\n",
    "    t0 = time()\n",
    "    #pred = clf.predict(X_test)\n",
    "    test_time = time() - t0\n",
    "    #print(\"test time:  %0.3fs\" % test_time)\n",
    "\n",
    "    #score = metrics.accuracy_score(y_test, pred)\n",
    "    score = scores.mean()\n",
    "    print(\"accuracy:   %0.3f\" % score)\n",
    "    \n",
    "    print()\n",
    "    clf_descr = str(clf).split('(')[0]\n",
    "    return clf_descr, score, train_time, test_time\n",
    "\n",
    "\n",
    "results = []\n",
    "for clf, name in (\n",
    "        (RidgeClassifier(tol=1e-2, solver=\"sag\"), \"Ridge Classifier\"),\n",
    "        (Perceptron(max_iter=50), \"Perceptron\"),\n",
    "        (PassiveAggressiveClassifier(max_iter=50), \"Passive-Aggressive\")):\n",
    "    \n",
    "    \n",
    "    results.append(benchmark(clf))\n",
    "\n",
    "for penalty in [\"l2\", \"l1\"]:\n",
    "    # Train Liblinear model\n",
    "    results.append(benchmark(LinearSVC(penalty=penalty, dual=False, tol=1e-3)))\n",
    "    # Train SGD model\n",
    "    results.append(benchmark(SGDClassifier(alpha=.0001, max_iter=50,penalty=penalty)))\n",
    "\n",
    "\n",
    "\n",
    "results.append(benchmark(SGDClassifier(alpha=.0001, max_iter=50,penalty=\"elasticnet\")))\n",
    "results.append(benchmark(NearestCentroid()))\n",
    "results.append(benchmark(MultinomialNB(alpha=.01)))\n",
    "results.append(benchmark(BernoulliNB(alpha=.01)))\n",
    "\n",
    "# The smaller C, the stronger the regularization.\n",
    "# The more regularization, the more sparsity.\n",
    "results.append(benchmark(Pipeline([\n",
    "  ('feature_selection', SelectFromModel(LinearSVC(penalty=\"l1\", dual=False, tol=1e-3))),\n",
    "  ('classification', LinearSVC(penalty=\"l2\"))])))\n",
    "\n"
   ]
  },
  {
   "cell_type": "code",
   "execution_count": 472,
   "metadata": {
    "scrolled": false
   },
   "outputs": [
    {
     "name": "stderr",
     "output_type": "stream",
     "text": [
      "C:\\ProgramData\\Anaconda3\\lib\\site-packages\\ipykernel_launcher.py:9: RuntimeWarning: invalid value encountered in true_divide\n",
      "  if __name__ == '__main__':\n"
     ]
    },
    {
     "data": {
      "image/png": "[encoded data removed]",
      "text/plain": [
       "<matplotlib.figure.Figure at 0x24990c67f60>"
      ]
     },
     "metadata": {},
     "output_type": "display_data"
    }
   ],
   "source": [
    "# make some plots\n",
    "\n",
    "indices = np.arange(len(results))\n",
    "\n",
    "results = [[x[i] for x in results] for i in range(4)]\n",
    "\n",
    "clf_names, score, training_time, test_time = results\n",
    "training_time = np.array(training_time) / np.max(training_time)\n",
    "test_time = np.array(test_time) / np.max(test_time)\n",
    "\n",
    "plt.figure(figsize=(12, 8))\n",
    "plt.title(\"Score\")\n",
    "plt.barh(indices, score, .2, label=\"score\", color='navy')\n",
    "plt.barh(indices + .3, training_time, .2, label=\"training time\", color='c')\n",
    "#plt.barh(indices + .6, test_time, .2, label=\"test time\", color='darkorange')\n",
    "plt.yticks(())\n",
    "plt.legend(loc='best')\n",
    "plt.subplots_adjust(left=.25)\n",
    "plt.subplots_adjust(top=.95)\n",
    "plt.subplots_adjust(bottom=.05)\n",
    "\n",
    "for i, c in zip(indices, clf_names):\n",
    "    plt.text(-.3, i, c)\n",
    "\n",
    "plt.show()"
   ]
  },
  {
   "cell_type": "code",
   "execution_count": 473,
   "metadata": {},
   "outputs": [
    {
     "data": {
      "text/plain": [
       "[['Perceptron',\n",
       "  'PassiveAggressiveClassifier',\n",
       "  'LinearSVC',\n",
       "  'LinearSVC',\n",
       "  'BernoulliNB',\n",
       "  'Pipeline'],\n",
       " [0.7845151410866007,\n",
       "  0.7974889734993279,\n",
       "  0.80683553408781206,\n",
       "  0.77976249982935797,\n",
       "  0.82098030484548801,\n",
       "  0.79049015801522471],\n",
       " [9.331826210021973,\n",
       "  9.582099199295044,\n",
       "  16.28858995437622,\n",
       "  11.894047498703003,\n",
       "  1.4263315200805664,\n",
       "  14.181061267852783],\n",
       " [0.0, 0.0, 0.0, 0.0, 0.0, 0.0]]"
      ]
     },
     "execution_count": 473,
     "metadata": {},
     "output_type": "execute_result"
    }
   ],
   "source": [
    "results"
   ]
  },
  {
   "cell_type": "code",
   "execution_count": 453,
   "metadata": {},
   "outputs": [
    {
     "data": {
      "text/plain": [
       "array(['MWS', 'EAP', 'EAP', ..., 'EAP', 'MWS', 'HPL'], \n",
       "      dtype='<U3')"
      ]
     },
     "execution_count": 453,
     "metadata": {},
     "output_type": "execute_result"
    }
   ],
   "source": [
    "\n",
    "\n",
    "# instantiate the model with the best known parameters\n",
    "bestmodel = BernoulliNB(alpha=.01)\n",
    "#MultinomialNB(alpha=.01)\n",
    "\n",
    "#BernoulliNB(alpha=.01)\n",
    "\n",
    "# train the model with X and y (not X_train and y_train)\n",
    "bestmodel.fit(X_full, y)\n",
    "\n",
    "#make a prediction for an out-of-sample observation\n",
    "result = bestmodel.predict_proba(T_test)\n",
    "bestmodel.predict(T_test)\n"
   ]
  },
  {
   "cell_type": "code",
   "execution_count": 454,
   "metadata": {
    "scrolled": false
   },
   "outputs": [
    {
     "data": {
      "text/plain": [
       "array([[  1.46890542e-03,   9.54621451e-07,   9.98530140e-01],\n",
       "       [  1.00000000e+00,   6.98789498e-14,   1.11935578e-10],\n",
       "       [  9.91386739e-01,   8.61326103e-03,   6.34198461e-12],\n",
       "       ..., \n",
       "       [  1.00000000e+00,   1.31410821e-39,   3.47991865e-37],\n",
       "       [  8.39193811e-08,   2.17103342e-14,   9.99999916e-01],\n",
       "       [  9.12849470e-06,   9.99990872e-01,   1.16583445e-17]])"
      ]
     },
     "execution_count": 454,
     "metadata": {},
     "output_type": "execute_result"
    }
   ],
   "source": [
    "result"
   ]
  },
  {
   "cell_type": "code",
   "execution_count": 455,
   "metadata": {
    "collapsed": true
   },
   "outputs": [],
   "source": [
    "row_sums = result.sum(axis=1)\n",
    "result_normalized = result / row_sums[:, np.newaxis]"
   ]
  },
  {
   "cell_type": "code",
   "execution_count": 456,
   "metadata": {},
   "outputs": [],
   "source": [
    "df = pd.DataFrame(result_normalized, test_df.id, columns=[\"EAP\",\"HPL\",\"MWS\"])"
   ]
  },
  {
   "cell_type": "code",
   "execution_count": 457,
   "metadata": {},
   "outputs": [
    {
     "data": {
      "text/html": [
       "<div>\n",
       "<style>\n",
       "    .dataframe thead tr:only-child th {\n",
       "        text-align: right;\n",
       "    }\n",
       "\n",
       "    .dataframe thead th {\n",
       "        text-align: left;\n",
       "    }\n",
       "\n",
       "    .dataframe tbody tr th {\n",
       "        vertical-align: top;\n",
       "    }\n",
       "</style>\n",
       "<table border=\"1\" class=\"dataframe\">\n",
       "  <thead>\n",
       "    <tr style=\"text-align: right;\">\n",
       "      <th></th>\n",
       "      <th>EAP</th>\n",
       "      <th>HPL</th>\n",
       "      <th>MWS</th>\n",
       "    </tr>\n",
       "    <tr>\n",
       "      <th>id</th>\n",
       "      <th></th>\n",
       "      <th></th>\n",
       "      <th></th>\n",
       "    </tr>\n",
       "  </thead>\n",
       "  <tbody>\n",
       "    <tr>\n",
       "      <th>id02310</th>\n",
       "      <td>1.468905e-03</td>\n",
       "      <td>9.546215e-07</td>\n",
       "      <td>9.985301e-01</td>\n",
       "    </tr>\n",
       "    <tr>\n",
       "      <th>id24541</th>\n",
       "      <td>1.000000e+00</td>\n",
       "      <td>6.987895e-14</td>\n",
       "      <td>1.119356e-10</td>\n",
       "    </tr>\n",
       "    <tr>\n",
       "      <th>id00134</th>\n",
       "      <td>9.913867e-01</td>\n",
       "      <td>8.613261e-03</td>\n",
       "      <td>6.341985e-12</td>\n",
       "    </tr>\n",
       "    <tr>\n",
       "      <th>id27757</th>\n",
       "      <td>9.999996e-01</td>\n",
       "      <td>4.291592e-07</td>\n",
       "      <td>1.430701e-18</td>\n",
       "    </tr>\n",
       "    <tr>\n",
       "      <th>id04081</th>\n",
       "      <td>9.997175e-01</td>\n",
       "      <td>7.973623e-05</td>\n",
       "      <td>2.027168e-04</td>\n",
       "    </tr>\n",
       "    <tr>\n",
       "      <th>id27337</th>\n",
       "      <td>9.997798e-01</td>\n",
       "      <td>2.202250e-04</td>\n",
       "      <td>8.292513e-09</td>\n",
       "    </tr>\n",
       "    <tr>\n",
       "      <th>id24265</th>\n",
       "      <td>9.891319e-01</td>\n",
       "      <td>3.832495e-03</td>\n",
       "      <td>7.035569e-03</td>\n",
       "    </tr>\n",
       "    <tr>\n",
       "      <th>id25917</th>\n",
       "      <td>9.409388e-06</td>\n",
       "      <td>2.486244e-03</td>\n",
       "      <td>9.975043e-01</td>\n",
       "    </tr>\n",
       "    <tr>\n",
       "      <th>id04951</th>\n",
       "      <td>1.000000e+00</td>\n",
       "      <td>2.401499e-09</td>\n",
       "      <td>2.080020e-19</td>\n",
       "    </tr>\n",
       "    <tr>\n",
       "      <th>id14549</th>\n",
       "      <td>9.923162e-01</td>\n",
       "      <td>4.184566e-04</td>\n",
       "      <td>7.265368e-03</td>\n",
       "    </tr>\n",
       "    <tr>\n",
       "      <th>id22505</th>\n",
       "      <td>7.462755e-02</td>\n",
       "      <td>1.247971e-07</td>\n",
       "      <td>9.253723e-01</td>\n",
       "    </tr>\n",
       "    <tr>\n",
       "      <th>id24002</th>\n",
       "      <td>8.085517e-20</td>\n",
       "      <td>1.000000e+00</td>\n",
       "      <td>4.325418e-22</td>\n",
       "    </tr>\n",
       "    <tr>\n",
       "      <th>id18982</th>\n",
       "      <td>1.299705e-10</td>\n",
       "      <td>1.000000e+00</td>\n",
       "      <td>1.011119e-12</td>\n",
       "    </tr>\n",
       "    <tr>\n",
       "      <th>id15181</th>\n",
       "      <td>1.707061e-09</td>\n",
       "      <td>1.000000e+00</td>\n",
       "      <td>4.129063e-14</td>\n",
       "    </tr>\n",
       "    <tr>\n",
       "      <th>id21888</th>\n",
       "      <td>9.999991e-01</td>\n",
       "      <td>1.878325e-08</td>\n",
       "      <td>8.587885e-07</td>\n",
       "    </tr>\n",
       "    <tr>\n",
       "      <th>id12035</th>\n",
       "      <td>1.511114e-07</td>\n",
       "      <td>2.934711e-10</td>\n",
       "      <td>9.999998e-01</td>\n",
       "    </tr>\n",
       "    <tr>\n",
       "      <th>id17991</th>\n",
       "      <td>5.918351e-03</td>\n",
       "      <td>5.456447e-08</td>\n",
       "      <td>9.940816e-01</td>\n",
       "    </tr>\n",
       "    <tr>\n",
       "      <th>id10707</th>\n",
       "      <td>1.000000e+00</td>\n",
       "      <td>4.760763e-37</td>\n",
       "      <td>4.115238e-35</td>\n",
       "    </tr>\n",
       "    <tr>\n",
       "      <th>id07101</th>\n",
       "      <td>7.920129e-02</td>\n",
       "      <td>3.927244e-04</td>\n",
       "      <td>9.204060e-01</td>\n",
       "    </tr>\n",
       "    <tr>\n",
       "      <th>id00345</th>\n",
       "      <td>1.962745e-02</td>\n",
       "      <td>9.803717e-01</td>\n",
       "      <td>8.433788e-07</td>\n",
       "    </tr>\n",
       "    <tr>\n",
       "      <th>id05912</th>\n",
       "      <td>9.997463e-01</td>\n",
       "      <td>2.254394e-04</td>\n",
       "      <td>2.828913e-05</td>\n",
       "    </tr>\n",
       "    <tr>\n",
       "      <th>id13443</th>\n",
       "      <td>1.000000e+00</td>\n",
       "      <td>1.578372e-13</td>\n",
       "      <td>7.653450e-09</td>\n",
       "    </tr>\n",
       "    <tr>\n",
       "      <th>id09248</th>\n",
       "      <td>3.186977e-02</td>\n",
       "      <td>1.319167e-04</td>\n",
       "      <td>9.679983e-01</td>\n",
       "    </tr>\n",
       "    <tr>\n",
       "      <th>id17542</th>\n",
       "      <td>2.944979e-04</td>\n",
       "      <td>9.996979e-01</td>\n",
       "      <td>7.621740e-06</td>\n",
       "    </tr>\n",
       "    <tr>\n",
       "      <th>id06995</th>\n",
       "      <td>1.255842e-08</td>\n",
       "      <td>3.211209e-12</td>\n",
       "      <td>1.000000e+00</td>\n",
       "    </tr>\n",
       "    <tr>\n",
       "      <th>id25159</th>\n",
       "      <td>3.960710e-01</td>\n",
       "      <td>1.314003e-04</td>\n",
       "      <td>6.037976e-01</td>\n",
       "    </tr>\n",
       "    <tr>\n",
       "      <th>id25729</th>\n",
       "      <td>9.889057e-01</td>\n",
       "      <td>1.108786e-02</td>\n",
       "      <td>6.470303e-06</td>\n",
       "    </tr>\n",
       "    <tr>\n",
       "      <th>id26949</th>\n",
       "      <td>9.999958e-01</td>\n",
       "      <td>1.016241e-06</td>\n",
       "      <td>3.222035e-06</td>\n",
       "    </tr>\n",
       "    <tr>\n",
       "      <th>id27191</th>\n",
       "      <td>7.012060e-02</td>\n",
       "      <td>3.277290e-10</td>\n",
       "      <td>9.298794e-01</td>\n",
       "    </tr>\n",
       "    <tr>\n",
       "      <th>id07668</th>\n",
       "      <td>4.973516e-07</td>\n",
       "      <td>8.986302e-16</td>\n",
       "      <td>9.999995e-01</td>\n",
       "    </tr>\n",
       "    <tr>\n",
       "      <th>...</th>\n",
       "      <td>...</td>\n",
       "      <td>...</td>\n",
       "      <td>...</td>\n",
       "    </tr>\n",
       "    <tr>\n",
       "      <th>id22510</th>\n",
       "      <td>6.736253e-01</td>\n",
       "      <td>4.886274e-04</td>\n",
       "      <td>3.258861e-01</td>\n",
       "    </tr>\n",
       "    <tr>\n",
       "      <th>id19204</th>\n",
       "      <td>9.999753e-01</td>\n",
       "      <td>2.088678e-09</td>\n",
       "      <td>2.472756e-05</td>\n",
       "    </tr>\n",
       "    <tr>\n",
       "      <th>id05758</th>\n",
       "      <td>1.103026e-05</td>\n",
       "      <td>1.450880e-03</td>\n",
       "      <td>9.985381e-01</td>\n",
       "    </tr>\n",
       "    <tr>\n",
       "      <th>id27063</th>\n",
       "      <td>9.995937e-01</td>\n",
       "      <td>2.262321e-07</td>\n",
       "      <td>4.061146e-04</td>\n",
       "    </tr>\n",
       "    <tr>\n",
       "      <th>id11773</th>\n",
       "      <td>1.020753e-12</td>\n",
       "      <td>3.954828e-22</td>\n",
       "      <td>1.000000e+00</td>\n",
       "    </tr>\n",
       "    <tr>\n",
       "      <th>id11562</th>\n",
       "      <td>9.999910e-01</td>\n",
       "      <td>1.445093e-08</td>\n",
       "      <td>8.999579e-06</td>\n",
       "    </tr>\n",
       "    <tr>\n",
       "      <th>id16208</th>\n",
       "      <td>5.628056e-03</td>\n",
       "      <td>2.146181e-07</td>\n",
       "      <td>9.943717e-01</td>\n",
       "    </tr>\n",
       "    <tr>\n",
       "      <th>id04036</th>\n",
       "      <td>1.617112e-09</td>\n",
       "      <td>1.076455e-11</td>\n",
       "      <td>1.000000e+00</td>\n",
       "    </tr>\n",
       "    <tr>\n",
       "      <th>id26159</th>\n",
       "      <td>9.999997e-01</td>\n",
       "      <td>1.025743e-14</td>\n",
       "      <td>3.255502e-07</td>\n",
       "    </tr>\n",
       "    <tr>\n",
       "      <th>id26777</th>\n",
       "      <td>9.456240e-01</td>\n",
       "      <td>1.382267e-04</td>\n",
       "      <td>5.423779e-02</td>\n",
       "    </tr>\n",
       "    <tr>\n",
       "      <th>id08501</th>\n",
       "      <td>9.940281e-01</td>\n",
       "      <td>1.277744e-04</td>\n",
       "      <td>5.844161e-03</td>\n",
       "    </tr>\n",
       "    <tr>\n",
       "      <th>id11216</th>\n",
       "      <td>2.570286e-36</td>\n",
       "      <td>1.000000e+00</td>\n",
       "      <td>9.395589e-36</td>\n",
       "    </tr>\n",
       "    <tr>\n",
       "      <th>id03410</th>\n",
       "      <td>9.998943e-01</td>\n",
       "      <td>8.593623e-05</td>\n",
       "      <td>1.981116e-05</td>\n",
       "    </tr>\n",
       "    <tr>\n",
       "      <th>id04537</th>\n",
       "      <td>2.738474e-05</td>\n",
       "      <td>1.366568e-14</td>\n",
       "      <td>9.999726e-01</td>\n",
       "    </tr>\n",
       "    <tr>\n",
       "      <th>id26628</th>\n",
       "      <td>1.000000e+00</td>\n",
       "      <td>3.617596e-08</td>\n",
       "      <td>1.128937e-14</td>\n",
       "    </tr>\n",
       "    <tr>\n",
       "      <th>id01586</th>\n",
       "      <td>2.479084e-10</td>\n",
       "      <td>1.000000e+00</td>\n",
       "      <td>3.275133e-17</td>\n",
       "    </tr>\n",
       "    <tr>\n",
       "      <th>id13421</th>\n",
       "      <td>3.211888e-01</td>\n",
       "      <td>1.912095e-02</td>\n",
       "      <td>6.596903e-01</td>\n",
       "    </tr>\n",
       "    <tr>\n",
       "      <th>id26084</th>\n",
       "      <td>6.675503e-04</td>\n",
       "      <td>9.993324e-01</td>\n",
       "      <td>3.838114e-09</td>\n",
       "    </tr>\n",
       "    <tr>\n",
       "      <th>id05375</th>\n",
       "      <td>6.148773e-12</td>\n",
       "      <td>2.859373e-18</td>\n",
       "      <td>1.000000e+00</td>\n",
       "    </tr>\n",
       "    <tr>\n",
       "      <th>id23212</th>\n",
       "      <td>9.999990e-01</td>\n",
       "      <td>7.726945e-10</td>\n",
       "      <td>1.018151e-06</td>\n",
       "    </tr>\n",
       "    <tr>\n",
       "      <th>id15980</th>\n",
       "      <td>9.999390e-01</td>\n",
       "      <td>8.896024e-06</td>\n",
       "      <td>5.214166e-05</td>\n",
       "    </tr>\n",
       "    <tr>\n",
       "      <th>id11719</th>\n",
       "      <td>3.502299e-21</td>\n",
       "      <td>1.000000e+00</td>\n",
       "      <td>1.799807e-26</td>\n",
       "    </tr>\n",
       "    <tr>\n",
       "      <th>id13109</th>\n",
       "      <td>1.000000e+00</td>\n",
       "      <td>2.529725e-11</td>\n",
       "      <td>5.377085e-11</td>\n",
       "    </tr>\n",
       "    <tr>\n",
       "      <th>id07156</th>\n",
       "      <td>1.000000e+00</td>\n",
       "      <td>1.363329e-16</td>\n",
       "      <td>4.594825e-16</td>\n",
       "    </tr>\n",
       "    <tr>\n",
       "      <th>id04893</th>\n",
       "      <td>5.204211e-04</td>\n",
       "      <td>9.994796e-01</td>\n",
       "      <td>4.992984e-09</td>\n",
       "    </tr>\n",
       "    <tr>\n",
       "      <th>id11749</th>\n",
       "      <td>9.704259e-01</td>\n",
       "      <td>4.981679e-04</td>\n",
       "      <td>2.907595e-02</td>\n",
       "    </tr>\n",
       "    <tr>\n",
       "      <th>id10526</th>\n",
       "      <td>2.452119e-01</td>\n",
       "      <td>1.482224e-03</td>\n",
       "      <td>7.533059e-01</td>\n",
       "    </tr>\n",
       "    <tr>\n",
       "      <th>id13477</th>\n",
       "      <td>1.000000e+00</td>\n",
       "      <td>1.314108e-39</td>\n",
       "      <td>3.479919e-37</td>\n",
       "    </tr>\n",
       "    <tr>\n",
       "      <th>id13761</th>\n",
       "      <td>8.391938e-08</td>\n",
       "      <td>2.171033e-14</td>\n",
       "      <td>9.999999e-01</td>\n",
       "    </tr>\n",
       "    <tr>\n",
       "      <th>id04282</th>\n",
       "      <td>9.128495e-06</td>\n",
       "      <td>9.999909e-01</td>\n",
       "      <td>1.165834e-17</td>\n",
       "    </tr>\n",
       "  </tbody>\n",
       "</table>\n",
       "<p>8392 rows × 3 columns</p>\n",
       "</div>"
      ],
      "text/plain": [
       "                  EAP           HPL           MWS\n",
       "id                                               \n",
       "id02310  1.468905e-03  9.546215e-07  9.985301e-01\n",
       "id24541  1.000000e+00  6.987895e-14  1.119356e-10\n",
       "id00134  9.913867e-01  8.613261e-03  6.341985e-12\n",
       "id27757  9.999996e-01  4.291592e-07  1.430701e-18\n",
       "id04081  9.997175e-01  7.973623e-05  2.027168e-04\n",
       "id27337  9.997798e-01  2.202250e-04  8.292513e-09\n",
       "id24265  9.891319e-01  3.832495e-03  7.035569e-03\n",
       "id25917  9.409388e-06  2.486244e-03  9.975043e-01\n",
       "id04951  1.000000e+00  2.401499e-09  2.080020e-19\n",
       "id14549  9.923162e-01  4.184566e-04  7.265368e-03\n",
       "id22505  7.462755e-02  1.247971e-07  9.253723e-01\n",
       "id24002  8.085517e-20  1.000000e+00  4.325418e-22\n",
       "id18982  1.299705e-10  1.000000e+00  1.011119e-12\n",
       "id15181  1.707061e-09  1.000000e+00  4.129063e-14\n",
       "id21888  9.999991e-01  1.878325e-08  8.587885e-07\n",
       "id12035  1.511114e-07  2.934711e-10  9.999998e-01\n",
       "id17991  5.918351e-03  5.456447e-08  9.940816e-01\n",
       "id10707  1.000000e+00  4.760763e-37  4.115238e-35\n",
       "id07101  7.920129e-02  3.927244e-04  9.204060e-01\n",
       "id00345  1.962745e-02  9.803717e-01  8.433788e-07\n",
       "id05912  9.997463e-01  2.254394e-04  2.828913e-05\n",
       "id13443  1.000000e+00  1.578372e-13  7.653450e-09\n",
       "id09248  3.186977e-02  1.319167e-04  9.679983e-01\n",
       "id17542  2.944979e-04  9.996979e-01  7.621740e-06\n",
       "id06995  1.255842e-08  3.211209e-12  1.000000e+00\n",
       "id25159  3.960710e-01  1.314003e-04  6.037976e-01\n",
       "id25729  9.889057e-01  1.108786e-02  6.470303e-06\n",
       "id26949  9.999958e-01  1.016241e-06  3.222035e-06\n",
       "id27191  7.012060e-02  3.277290e-10  9.298794e-01\n",
       "id07668  4.973516e-07  8.986302e-16  9.999995e-01\n",
       "...               ...           ...           ...\n",
       "id22510  6.736253e-01  4.886274e-04  3.258861e-01\n",
       "id19204  9.999753e-01  2.088678e-09  2.472756e-05\n",
       "id05758  1.103026e-05  1.450880e-03  9.985381e-01\n",
       "id27063  9.995937e-01  2.262321e-07  4.061146e-04\n",
       "id11773  1.020753e-12  3.954828e-22  1.000000e+00\n",
       "id11562  9.999910e-01  1.445093e-08  8.999579e-06\n",
       "id16208  5.628056e-03  2.146181e-07  9.943717e-01\n",
       "id04036  1.617112e-09  1.076455e-11  1.000000e+00\n",
       "id26159  9.999997e-01  1.025743e-14  3.255502e-07\n",
       "id26777  9.456240e-01  1.382267e-04  5.423779e-02\n",
       "id08501  9.940281e-01  1.277744e-04  5.844161e-03\n",
       "id11216  2.570286e-36  1.000000e+00  9.395589e-36\n",
       "id03410  9.998943e-01  8.593623e-05  1.981116e-05\n",
       "id04537  2.738474e-05  1.366568e-14  9.999726e-01\n",
       "id26628  1.000000e+00  3.617596e-08  1.128937e-14\n",
       "id01586  2.479084e-10  1.000000e+00  3.275133e-17\n",
       "id13421  3.211888e-01  1.912095e-02  6.596903e-01\n",
       "id26084  6.675503e-04  9.993324e-01  3.838114e-09\n",
       "id05375  6.148773e-12  2.859373e-18  1.000000e+00\n",
       "id23212  9.999990e-01  7.726945e-10  1.018151e-06\n",
       "id15980  9.999390e-01  8.896024e-06  5.214166e-05\n",
       "id11719  3.502299e-21  1.000000e+00  1.799807e-26\n",
       "id13109  1.000000e+00  2.529725e-11  5.377085e-11\n",
       "id07156  1.000000e+00  1.363329e-16  4.594825e-16\n",
       "id04893  5.204211e-04  9.994796e-01  4.992984e-09\n",
       "id11749  9.704259e-01  4.981679e-04  2.907595e-02\n",
       "id10526  2.452119e-01  1.482224e-03  7.533059e-01\n",
       "id13477  1.000000e+00  1.314108e-39  3.479919e-37\n",
       "id13761  8.391938e-08  2.171033e-14  9.999999e-01\n",
       "id04282  9.128495e-06  9.999909e-01  1.165834e-17\n",
       "\n",
       "[8392 rows x 3 columns]"
      ]
     },
     "execution_count": 457,
     "metadata": {},
     "output_type": "execute_result"
    }
   ],
   "source": [
    "df"
   ]
  },
  {
   "cell_type": "code",
   "execution_count": 458,
   "metadata": {
    "collapsed": true
   },
   "outputs": [],
   "source": [
    "df.to_csv(\"Real2.csv\")"
   ]
  }
 ],
 "metadata": {
  "kernelspec": {
   "display_name": "Python 3",
   "language": "python",
   "name": "python3"
  },
  "language_info": {
   "codemirror_mode": {
    "name": "ipython",
    "version": 3
   },
   "file_extension": ".py",
   "mimetype": "text/x-python",
   "name": "python",
   "nbconvert_exporter": "python",
   "pygments_lexer": "ipython3",
   "version": "3.6.3"
  }
 },
 "nbformat": 4,
 "nbformat_minor": 2
}
